{
 "cells": [
  {
   "cell_type": "code",
   "execution_count": 15,
   "metadata": {},
   "outputs": [],
   "source": [
    "from tira.third_party_integrations import ensure_pyterrier_is_loaded, persist_and_normalize_run\n",
    "from tira.rest_api_client import Client\n",
    "import pyterrier as pt\n",
    "import pandas as pd\n",
    "from tqdm import tqdm\n",
    "from ranx import fuse, Run\n"
   ]
  },
  {
   "cell_type": "code",
   "execution_count": 16,
   "metadata": {},
   "outputs": [],
   "source": [
    "ensure_pyterrier_is_loaded()\n",
    "tira = Client()"
   ]
  },
  {
   "cell_type": "code",
   "execution_count": 17,
   "metadata": {},
   "outputs": [],
   "source": [
    "pt_dataset = pt.get_dataset('irds:ir-lab-sose-2024/ir-acl-anthology-20240504-training')"
   ]
  },
  {
   "cell_type": "code",
   "execution_count": 18,
   "metadata": {},
   "outputs": [],
   "source": [
    "def to_ranx_dict(run, qrels = None):\n",
    "    ret = {}\n",
    "    for _, row in run.iterrows():\n",
    "        if row['qid'] not in ret:\n",
    "            ret[row['qid']] = {}\n",
    "\n",
    "        ret[row['qid']][row['docno']] = row['score']\n",
    "\n",
    "    if qrels is not None:\n",
    "        for key in qrels.keys():\n",
    "            if not key in ret.keys():\n",
    "                ret[key] = {}\n",
    "    \n",
    "\n",
    "    return Run(ret)\n",
    "\n",
    "def from_ranx(run):\n",
    "    ret = []\n",
    "\n",
    "    for qid in tqdm(run.keys()):\n",
    "        for docno in run[qid].keys():\n",
    "            ret += [{\n",
    "                'qid': qid,\n",
    "                'docno': docno,\n",
    "                'score': run[qid][docno]\n",
    "            }]\n",
    "    return pd.DataFrame(ret)"
   ]
  },
  {
   "cell_type": "code",
   "execution_count": 22,
   "metadata": {},
   "outputs": [],
   "source": [
    "bm25 = tira.pt.from_submission('ir-benchmarks/tira-ir-starter/BM25 (tira-ir-starter-pyterrier)', pt_dataset)\n",
    "tinybert = tira.pt.from_submission('reneuir-2024/tinyfsu/overcast-elk', pt_dataset)\n",
    "\n",
    "bm25 = to_ranx_dict(bm25(pt_dataset.get_topics('title')))\n",
    "tinybert = to_ranx_dict(tinybert(pt_dataset.get_topics('title')))\n",
    "best_params = {'weights': (0.62, 0.38)}"
   ]
  },
  {
   "cell_type": "code",
   "execution_count": 13,
   "metadata": {},
   "outputs": [
    {
     "name": "stderr",
     "output_type": "stream",
     "text": [
      "100%|██████████| 68/68 [03:54<00:00,  3.45s/it]\n"
     ]
    },
    {
     "name": "stdout",
     "output_type": "stream",
     "text": [
      "The run file is normalized outside the TIRA sandbox, I will store it at \".\".\n",
      "Done. run file is stored under \"./run.txt\".\n"
     ]
    }
   ],
   "source": [
    "df = fuse(runs=[bm25, tinybert], norm=\"min-max\", method=\"wsum\", params=best_params)\n",
    "df = from_ranx(df)\n",
    "\n",
    "persist_and_normalize_run(df, 'fusion', default_output='.')\n"
   ]
  }
 ],
 "metadata": {
  "kernelspec": {
   "display_name": "Python 3",
   "language": "python",
   "name": "python3"
  },
  "language_info": {
   "codemirror_mode": {
    "name": "ipython",
    "version": 3
   },
   "file_extension": ".py",
   "mimetype": "text/x-python",
   "name": "python",
   "nbconvert_exporter": "python",
   "pygments_lexer": "ipython3",
   "version": "3.10.12"
  }
 },
 "nbformat": 4,
 "nbformat_minor": 2
}
