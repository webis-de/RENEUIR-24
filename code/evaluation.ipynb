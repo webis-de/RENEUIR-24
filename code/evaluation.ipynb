{
 "cells": [
  {
   "cell_type": "markdown",
   "id": "a0f6166e-33bf-4ef5-967c-0b58229c3ca5",
   "metadata": {},
   "source": [
    "# Evaluation on the Dev Set"
   ]
  },
  {
   "cell_type": "code",
   "execution_count": 2,
   "id": "99c2bc11-6b82-47b9-bdc3-71777f00077d",
   "metadata": {},
   "outputs": [],
   "source": [
    "import pyterrier as pt\n",
    "\n",
    "if not pt.started():\n",
    "  pt.init()\n",
    "\n",
    "pt_dataset = pt.get_dataset(f'irds:msmarco-passage/dev/small')"
   ]
  },
  {
   "cell_type": "code",
   "execution_count": 3,
   "id": "bb20f3d8-9724-4058-8910-f67c9abfb1d2",
   "metadata": {},
   "outputs": [],
   "source": [
    "runs = {\n",
    "    'tiny-distill-v0': pt.transformer.get_transformer(pt.io.read_results('lightning-ir/output-runs/version_0/run.txt'))\n",
    "}\n",
    "    "
   ]
  },
  {
   "cell_type": "code",
   "execution_count": 4,
   "id": "488448d9-9c71-429e-af69-2deb211dcae3",
   "metadata": {},
   "outputs": [
    {
     "data": {
      "text/html": [
       "<div>\n",
       "<style scoped>\n",
       "    .dataframe tbody tr th:only-of-type {\n",
       "        vertical-align: middle;\n",
       "    }\n",
       "\n",
       "    .dataframe tbody tr th {\n",
       "        vertical-align: top;\n",
       "    }\n",
       "\n",
       "    .dataframe thead th {\n",
       "        text-align: right;\n",
       "    }\n",
       "</style>\n",
       "<table border=\"1\" class=\"dataframe\">\n",
       "  <thead>\n",
       "    <tr style=\"text-align: right;\">\n",
       "      <th></th>\n",
       "      <th>name</th>\n",
       "      <th>ndcg_cut.10</th>\n",
       "      <th>recip_rank</th>\n",
       "    </tr>\n",
       "  </thead>\n",
       "  <tbody>\n",
       "    <tr>\n",
       "      <th>0</th>\n",
       "      <td>tiny-distill-v0</td>\n",
       "      <td>0.30037</td>\n",
       "      <td>0.257119</td>\n",
       "    </tr>\n",
       "  </tbody>\n",
       "</table>\n",
       "</div>"
      ],
      "text/plain": [
       "              name  ndcg_cut.10  recip_rank\n",
       "0  tiny-distill-v0      0.30037    0.257119"
      ]
     },
     "execution_count": 4,
     "metadata": {},
     "output_type": "execute_result"
    }
   ],
   "source": [
    "pt.Experiment(\n",
    "    list(runs.values()),\n",
    "    pt_dataset.get_topics(),\n",
    "    pt_dataset.get_qrels(),\n",
    "    [\"ndcg_cut.10\", \"recip_rank\"],\n",
    "    names=list(runs.keys())\n",
    ")"
   ]
  }
 ],
 "metadata": {
  "kernelspec": {
   "display_name": "Python 3 (ipykernel)",
   "language": "python",
   "name": "python3"
  },
  "language_info": {
   "codemirror_mode": {
    "name": "ipython",
    "version": 3
   },
   "file_extension": ".py",
   "mimetype": "text/x-python",
   "name": "python",
   "nbconvert_exporter": "python",
   "pygments_lexer": "ipython3",
   "version": "3.10.13"
  }
 },
 "nbformat": 4,
 "nbformat_minor": 5
}
