{
  "nbformat": 4,
  "nbformat_minor": 0,
  "metadata": {
    "colab": {
      "provenance": [],
      "gpuType": "T4"
    },
    "kernelspec": {
      "name": "python3",
      "display_name": "Python 3"
    },
    "language_info": {
      "name": "python"
    },
    "accelerator": "GPU"
  },
  "cells": [
    {
      "cell_type": "code",
      "execution_count": 1,
      "metadata": {
        "colab": {
          "base_uri": "https://localhost:8080/"
        },
        "id": "DZ67PxmZfH8z",
        "outputId": "a3fa54c2-90ca-45a0-a59a-5a7cc12a6281"
      },
      "outputs": [
        {
          "output_type": "stream",
          "name": "stdout",
          "text": [
            "--2024-05-05 07:02:11--  https://files.webis.de/data-in-progress/data-research/web-search/reneuir-24/msmarco-passage-trec-dl-2019-judged-20230107-training-rerank.jsonl.gz\n",
            "Resolving files.webis.de (files.webis.de)... 141.54.132.200\n",
            "Connecting to files.webis.de (files.webis.de)|141.54.132.200|:443... connected.\n",
            "HTTP request sent, awaiting response... 200 OK\n",
            "Length: 6153798 (5.9M) [application/octet-stream]\n",
            "Saving to: ‘msmarco-passage-trec-dl-2019-judged-20230107-training-rerank.jsonl.gz’\n",
            "\n",
            "msmarco-passage-tre 100%[===================>]   5.87M  4.71MB/s    in 1.2s    \n",
            "\n",
            "2024-05-05 07:02:13 (4.71 MB/s) - ‘msmarco-passage-trec-dl-2019-judged-20230107-training-rerank.jsonl.gz’ saved [6153798/6153798]\n",
            "\n"
          ]
        }
      ],
      "source": [
        "# Download data\n",
        "!wget https://files.webis.de/data-in-progress/data-research/web-search/reneuir-24/msmarco-passage-trec-dl-2019-judged-20230107-training-rerank.jsonl.gz"
      ]
    },
    {
      "cell_type": "code",
      "source": [
        "!pip3 install ir_datasets python-terrier datasets sentence-transformers tira"
      ],
      "metadata": {
        "id": "L2YhJy6-fOmW"
      },
      "execution_count": null,
      "outputs": []
    },
    {
      "cell_type": "code",
      "source": [
        "import pandas as pd\n",
        "from tira.third_party_integrations import normalize_run\n",
        "from datasets import Dataset, DatasetDict\n",
        "from transformers import AutoTokenizer, DataCollatorWithPadding\n",
        "from transformers import TrainingArguments, Trainer\n",
        "from transformers import AutoModel, AutoModelForSequenceClassification\n",
        "import numpy as np\n",
        "from torch.utils.data import DataLoader\n",
        "from sentence_transformers import CrossEncoder\n",
        "import torch\n",
        "from sentence_transformers import InputExample\n",
        "import sentence_transformers\n",
        "from tqdm import tqdm"
      ],
      "metadata": {
        "id": "dWIUCKJoh2lM"
      },
      "execution_count": 9,
      "outputs": []
    },
    {
      "cell_type": "code",
      "source": [
        "import pyterrier as pt\n",
        "import pandas as pd\n",
        "\n",
        "if not pt.started():\n",
        "  pt.init()\n",
        "\n",
        "dataset_id = 'msmarco-passage/trec-dl-2019/judged'"
      ],
      "metadata": {
        "colab": {
          "base_uri": "https://localhost:8080/"
        },
        "id": "Ma_iyAXEfpzz",
        "outputId": "7f8bc5b1-e0bb-460c-8d85-5a806a8d0ac9"
      },
      "execution_count": 10,
      "outputs": [
        {
          "output_type": "stream",
          "name": "stdout",
          "text": [
            "terrier-assemblies 5.9 jar-with-dependencies not found, downloading to /root/.pyterrier...\n",
            "Done\n",
            "terrier-python-helper 0.0.8 jar not found, downloading to /root/.pyterrier...\n",
            "Done\n"
          ]
        },
        {
          "output_type": "stream",
          "name": "stderr",
          "text": [
            "PyTerrier 0.10.1 has loaded Terrier 5.9 (built by craigm on 2024-05-02 17:40) and terrier-helper 0.0.8\n",
            "\n"
          ]
        }
      ]
    },
    {
      "cell_type": "code",
      "source": [
        "initial_run = pd.read_json('msmarco-passage-trec-dl-2019-judged-20230107-training-rerank.jsonl.gz', lines=True, dtype={'qid': str, 'docno': str})\n",
        "pt_dataset = pt.get_dataset(f'irds:{dataset_id}')\n",
        "pt_bm25 = pt.transformer.get_transformer(initial_run)"
      ],
      "metadata": {
        "id": "WS8I8EQGfz4K"
      },
      "execution_count": 11,
      "outputs": []
    },
    {
      "cell_type": "code",
      "source": [
        "models = [\n",
        "    \"Integer-Ctrl/cross-encoder-bert-tiny-512\", \"Integer-Ctrl/cross-encoder-bert-tiny-5120\",\n",
        "    \"Integer-Ctrl/cross-encoder-bert-tiny-51200\", \"Integer-Ctrl/cross-encoder-bert-tiny-bs-200\",\n",
        "    \"Integer-Ctrl/cross-encoder-bert-tiny-512\"\n",
        "]\n",
        "\n",
        "for m in models:\n",
        "  #Shortly ensure that all models are downloaded\n",
        "  CrossEncoder(m, num_labels=1)"
      ],
      "metadata": {
        "id": "Uj6fQVG0jA-0"
      },
      "execution_count": 15,
      "outputs": []
    },
    {
      "cell_type": "code",
      "source": [
        "def make_predictions(model_name, dataset):\n",
        "    ret = dataset.copy()\n",
        "    input_data = []\n",
        "    model =  CrossEncoder(model_name, num_labels=1)\n",
        "    for _, i in ret.iterrows():\n",
        "\n",
        "        input_data += [[i['query'], i['text']]]\n",
        "    ret['score'] = model.predict(input_data)\n",
        "    ret = normalize_run(ret, model_name)\n",
        "    ret['qid'] = ret['qid'].astype(str)\n",
        "    return pt.transformer.get_transformer(ret)"
      ],
      "metadata": {
        "id": "H1tfQOsdjed1"
      },
      "execution_count": 35,
      "outputs": []
    },
    {
      "cell_type": "code",
      "source": [
        "new_runs = []\n",
        "new_run_names = []\n",
        "\n",
        "for m in tqdm(models):\n",
        "    new_runs += [make_predictions(m, initial_run)]\n",
        "    new_run_names += [m]"
      ],
      "metadata": {
        "colab": {
          "base_uri": "https://localhost:8080/"
        },
        "id": "E9VYImiWnQZ7",
        "outputId": "f9b03aa5-8d5a-4045-9e87-1e15b313145f"
      },
      "execution_count": 39,
      "outputs": [
        {
          "output_type": "stream",
          "name": "stderr",
          "text": [
            "\r  0%|          | 0/5 [00:00<?, ?it/s]/usr/local/lib/python3.10/dist-packages/huggingface_hub/file_download.py:1132: FutureWarning: `resume_download` is deprecated and will be removed in version 1.0.0. Downloads always resume when possible. If you want to force a new download, use `force_download=True`.\n",
            "  warnings.warn(\n",
            "Asking to truncate to max_length but no maximum length is provided and the model has no predefined maximum length. Default to no truncation.\n",
            " 20%|██        | 1/5 [00:27<01:51, 27.97s/it]/usr/local/lib/python3.10/dist-packages/huggingface_hub/file_download.py:1132: FutureWarning: `resume_download` is deprecated and will be removed in version 1.0.0. Downloads always resume when possible. If you want to force a new download, use `force_download=True`.\n",
            "  warnings.warn(\n",
            "Asking to truncate to max_length but no maximum length is provided and the model has no predefined maximum length. Default to no truncation.\n",
            " 40%|████      | 2/5 [00:59<01:29, 29.78s/it]/usr/local/lib/python3.10/dist-packages/huggingface_hub/file_download.py:1132: FutureWarning: `resume_download` is deprecated and will be removed in version 1.0.0. Downloads always resume when possible. If you want to force a new download, use `force_download=True`.\n",
            "  warnings.warn(\n",
            "Asking to truncate to max_length but no maximum length is provided and the model has no predefined maximum length. Default to no truncation.\n",
            " 60%|██████    | 3/5 [01:21<00:52, 26.41s/it]/usr/local/lib/python3.10/dist-packages/huggingface_hub/file_download.py:1132: FutureWarning: `resume_download` is deprecated and will be removed in version 1.0.0. Downloads always resume when possible. If you want to force a new download, use `force_download=True`.\n",
            "  warnings.warn(\n",
            "Asking to truncate to max_length but no maximum length is provided and the model has no predefined maximum length. Default to no truncation.\n",
            " 80%|████████  | 4/5 [01:44<00:25, 25.15s/it]/usr/local/lib/python3.10/dist-packages/huggingface_hub/file_download.py:1132: FutureWarning: `resume_download` is deprecated and will be removed in version 1.0.0. Downloads always resume when possible. If you want to force a new download, use `force_download=True`.\n",
            "  warnings.warn(\n",
            "Asking to truncate to max_length but no maximum length is provided and the model has no predefined maximum length. Default to no truncation.\n",
            "100%|██████████| 5/5 [02:07<00:00, 25.53s/it]\n"
          ]
        }
      ]
    },
    {
      "cell_type": "code",
      "source": [
        "pt.Experiment(\n",
        "    [pt_bm25] + new_runs,\n",
        "    pt_dataset.get_topics(),\n",
        "    pt_dataset.get_qrels(),\n",
        "    [\"ndcg_cut.10\", \"recip_rank\"],\n",
        "    names=[\"BM25\"] + new_run_names\n",
        ")"
      ],
      "metadata": {
        "colab": {
          "base_uri": "https://localhost:8080/",
          "height": 238
        },
        "id": "tkDcnywsgf2p",
        "outputId": "0d4413f0-1831-4976-958c-2d31e8825d87"
      },
      "execution_count": 41,
      "outputs": [
        {
          "output_type": "execute_result",
          "data": {
            "text/plain": [
              "                                          name  ndcg_cut.10  recip_rank\n",
              "0                                         BM25     0.479540    0.795028\n",
              "1     Integer-Ctrl/cross-encoder-bert-tiny-512     0.331722    0.548924\n",
              "2    Integer-Ctrl/cross-encoder-bert-tiny-5120     0.475535    0.748345\n",
              "3   Integer-Ctrl/cross-encoder-bert-tiny-51200     0.523269    0.853039\n",
              "4  Integer-Ctrl/cross-encoder-bert-tiny-bs-200     0.621444    0.903277\n",
              "5     Integer-Ctrl/cross-encoder-bert-tiny-512     0.331722    0.548924"
            ],
            "text/html": [
              "\n",
              "  <div id=\"df-b030e85b-d98c-46c4-b9f0-f6a408c844d4\" class=\"colab-df-container\">\n",
              "    <div>\n",
              "<style scoped>\n",
              "    .dataframe tbody tr th:only-of-type {\n",
              "        vertical-align: middle;\n",
              "    }\n",
              "\n",
              "    .dataframe tbody tr th {\n",
              "        vertical-align: top;\n",
              "    }\n",
              "\n",
              "    .dataframe thead th {\n",
              "        text-align: right;\n",
              "    }\n",
              "</style>\n",
              "<table border=\"1\" class=\"dataframe\">\n",
              "  <thead>\n",
              "    <tr style=\"text-align: right;\">\n",
              "      <th></th>\n",
              "      <th>name</th>\n",
              "      <th>ndcg_cut.10</th>\n",
              "      <th>recip_rank</th>\n",
              "    </tr>\n",
              "  </thead>\n",
              "  <tbody>\n",
              "    <tr>\n",
              "      <th>0</th>\n",
              "      <td>BM25</td>\n",
              "      <td>0.479540</td>\n",
              "      <td>0.795028</td>\n",
              "    </tr>\n",
              "    <tr>\n",
              "      <th>1</th>\n",
              "      <td>Integer-Ctrl/cross-encoder-bert-tiny-512</td>\n",
              "      <td>0.331722</td>\n",
              "      <td>0.548924</td>\n",
              "    </tr>\n",
              "    <tr>\n",
              "      <th>2</th>\n",
              "      <td>Integer-Ctrl/cross-encoder-bert-tiny-5120</td>\n",
              "      <td>0.475535</td>\n",
              "      <td>0.748345</td>\n",
              "    </tr>\n",
              "    <tr>\n",
              "      <th>3</th>\n",
              "      <td>Integer-Ctrl/cross-encoder-bert-tiny-51200</td>\n",
              "      <td>0.523269</td>\n",
              "      <td>0.853039</td>\n",
              "    </tr>\n",
              "    <tr>\n",
              "      <th>4</th>\n",
              "      <td>Integer-Ctrl/cross-encoder-bert-tiny-bs-200</td>\n",
              "      <td>0.621444</td>\n",
              "      <td>0.903277</td>\n",
              "    </tr>\n",
              "    <tr>\n",
              "      <th>5</th>\n",
              "      <td>Integer-Ctrl/cross-encoder-bert-tiny-512</td>\n",
              "      <td>0.331722</td>\n",
              "      <td>0.548924</td>\n",
              "    </tr>\n",
              "  </tbody>\n",
              "</table>\n",
              "</div>\n",
              "    <div class=\"colab-df-buttons\">\n",
              "\n",
              "  <div class=\"colab-df-container\">\n",
              "    <button class=\"colab-df-convert\" onclick=\"convertToInteractive('df-b030e85b-d98c-46c4-b9f0-f6a408c844d4')\"\n",
              "            title=\"Convert this dataframe to an interactive table.\"\n",
              "            style=\"display:none;\">\n",
              "\n",
              "  <svg xmlns=\"http://www.w3.org/2000/svg\" height=\"24px\" viewBox=\"0 -960 960 960\">\n",
              "    <path d=\"M120-120v-720h720v720H120Zm60-500h600v-160H180v160Zm220 220h160v-160H400v160Zm0 220h160v-160H400v160ZM180-400h160v-160H180v160Zm440 0h160v-160H620v160ZM180-180h160v-160H180v160Zm440 0h160v-160H620v160Z\"/>\n",
              "  </svg>\n",
              "    </button>\n",
              "\n",
              "  <style>\n",
              "    .colab-df-container {\n",
              "      display:flex;\n",
              "      gap: 12px;\n",
              "    }\n",
              "\n",
              "    .colab-df-convert {\n",
              "      background-color: #E8F0FE;\n",
              "      border: none;\n",
              "      border-radius: 50%;\n",
              "      cursor: pointer;\n",
              "      display: none;\n",
              "      fill: #1967D2;\n",
              "      height: 32px;\n",
              "      padding: 0 0 0 0;\n",
              "      width: 32px;\n",
              "    }\n",
              "\n",
              "    .colab-df-convert:hover {\n",
              "      background-color: #E2EBFA;\n",
              "      box-shadow: 0px 1px 2px rgba(60, 64, 67, 0.3), 0px 1px 3px 1px rgba(60, 64, 67, 0.15);\n",
              "      fill: #174EA6;\n",
              "    }\n",
              "\n",
              "    .colab-df-buttons div {\n",
              "      margin-bottom: 4px;\n",
              "    }\n",
              "\n",
              "    [theme=dark] .colab-df-convert {\n",
              "      background-color: #3B4455;\n",
              "      fill: #D2E3FC;\n",
              "    }\n",
              "\n",
              "    [theme=dark] .colab-df-convert:hover {\n",
              "      background-color: #434B5C;\n",
              "      box-shadow: 0px 1px 3px 1px rgba(0, 0, 0, 0.15);\n",
              "      filter: drop-shadow(0px 1px 2px rgba(0, 0, 0, 0.3));\n",
              "      fill: #FFFFFF;\n",
              "    }\n",
              "  </style>\n",
              "\n",
              "    <script>\n",
              "      const buttonEl =\n",
              "        document.querySelector('#df-b030e85b-d98c-46c4-b9f0-f6a408c844d4 button.colab-df-convert');\n",
              "      buttonEl.style.display =\n",
              "        google.colab.kernel.accessAllowed ? 'block' : 'none';\n",
              "\n",
              "      async function convertToInteractive(key) {\n",
              "        const element = document.querySelector('#df-b030e85b-d98c-46c4-b9f0-f6a408c844d4');\n",
              "        const dataTable =\n",
              "          await google.colab.kernel.invokeFunction('convertToInteractive',\n",
              "                                                    [key], {});\n",
              "        if (!dataTable) return;\n",
              "\n",
              "        const docLinkHtml = 'Like what you see? Visit the ' +\n",
              "          '<a target=\"_blank\" href=https://colab.research.google.com/notebooks/data_table.ipynb>data table notebook</a>'\n",
              "          + ' to learn more about interactive tables.';\n",
              "        element.innerHTML = '';\n",
              "        dataTable['output_type'] = 'display_data';\n",
              "        await google.colab.output.renderOutput(dataTable, element);\n",
              "        const docLink = document.createElement('div');\n",
              "        docLink.innerHTML = docLinkHtml;\n",
              "        element.appendChild(docLink);\n",
              "      }\n",
              "    </script>\n",
              "  </div>\n",
              "\n",
              "\n",
              "<div id=\"df-2f172935-7d15-4c29-95a0-31237a8f1b77\">\n",
              "  <button class=\"colab-df-quickchart\" onclick=\"quickchart('df-2f172935-7d15-4c29-95a0-31237a8f1b77')\"\n",
              "            title=\"Suggest charts\"\n",
              "            style=\"display:none;\">\n",
              "\n",
              "<svg xmlns=\"http://www.w3.org/2000/svg\" height=\"24px\"viewBox=\"0 0 24 24\"\n",
              "     width=\"24px\">\n",
              "    <g>\n",
              "        <path d=\"M19 3H5c-1.1 0-2 .9-2 2v14c0 1.1.9 2 2 2h14c1.1 0 2-.9 2-2V5c0-1.1-.9-2-2-2zM9 17H7v-7h2v7zm4 0h-2V7h2v10zm4 0h-2v-4h2v4z\"/>\n",
              "    </g>\n",
              "</svg>\n",
              "  </button>\n",
              "\n",
              "<style>\n",
              "  .colab-df-quickchart {\n",
              "      --bg-color: #E8F0FE;\n",
              "      --fill-color: #1967D2;\n",
              "      --hover-bg-color: #E2EBFA;\n",
              "      --hover-fill-color: #174EA6;\n",
              "      --disabled-fill-color: #AAA;\n",
              "      --disabled-bg-color: #DDD;\n",
              "  }\n",
              "\n",
              "  [theme=dark] .colab-df-quickchart {\n",
              "      --bg-color: #3B4455;\n",
              "      --fill-color: #D2E3FC;\n",
              "      --hover-bg-color: #434B5C;\n",
              "      --hover-fill-color: #FFFFFF;\n",
              "      --disabled-bg-color: #3B4455;\n",
              "      --disabled-fill-color: #666;\n",
              "  }\n",
              "\n",
              "  .colab-df-quickchart {\n",
              "    background-color: var(--bg-color);\n",
              "    border: none;\n",
              "    border-radius: 50%;\n",
              "    cursor: pointer;\n",
              "    display: none;\n",
              "    fill: var(--fill-color);\n",
              "    height: 32px;\n",
              "    padding: 0;\n",
              "    width: 32px;\n",
              "  }\n",
              "\n",
              "  .colab-df-quickchart:hover {\n",
              "    background-color: var(--hover-bg-color);\n",
              "    box-shadow: 0 1px 2px rgba(60, 64, 67, 0.3), 0 1px 3px 1px rgba(60, 64, 67, 0.15);\n",
              "    fill: var(--button-hover-fill-color);\n",
              "  }\n",
              "\n",
              "  .colab-df-quickchart-complete:disabled,\n",
              "  .colab-df-quickchart-complete:disabled:hover {\n",
              "    background-color: var(--disabled-bg-color);\n",
              "    fill: var(--disabled-fill-color);\n",
              "    box-shadow: none;\n",
              "  }\n",
              "\n",
              "  .colab-df-spinner {\n",
              "    border: 2px solid var(--fill-color);\n",
              "    border-color: transparent;\n",
              "    border-bottom-color: var(--fill-color);\n",
              "    animation:\n",
              "      spin 1s steps(1) infinite;\n",
              "  }\n",
              "\n",
              "  @keyframes spin {\n",
              "    0% {\n",
              "      border-color: transparent;\n",
              "      border-bottom-color: var(--fill-color);\n",
              "      border-left-color: var(--fill-color);\n",
              "    }\n",
              "    20% {\n",
              "      border-color: transparent;\n",
              "      border-left-color: var(--fill-color);\n",
              "      border-top-color: var(--fill-color);\n",
              "    }\n",
              "    30% {\n",
              "      border-color: transparent;\n",
              "      border-left-color: var(--fill-color);\n",
              "      border-top-color: var(--fill-color);\n",
              "      border-right-color: var(--fill-color);\n",
              "    }\n",
              "    40% {\n",
              "      border-color: transparent;\n",
              "      border-right-color: var(--fill-color);\n",
              "      border-top-color: var(--fill-color);\n",
              "    }\n",
              "    60% {\n",
              "      border-color: transparent;\n",
              "      border-right-color: var(--fill-color);\n",
              "    }\n",
              "    80% {\n",
              "      border-color: transparent;\n",
              "      border-right-color: var(--fill-color);\n",
              "      border-bottom-color: var(--fill-color);\n",
              "    }\n",
              "    90% {\n",
              "      border-color: transparent;\n",
              "      border-bottom-color: var(--fill-color);\n",
              "    }\n",
              "  }\n",
              "</style>\n",
              "\n",
              "  <script>\n",
              "    async function quickchart(key) {\n",
              "      const quickchartButtonEl =\n",
              "        document.querySelector('#' + key + ' button');\n",
              "      quickchartButtonEl.disabled = true;  // To prevent multiple clicks.\n",
              "      quickchartButtonEl.classList.add('colab-df-spinner');\n",
              "      try {\n",
              "        const charts = await google.colab.kernel.invokeFunction(\n",
              "            'suggestCharts', [key], {});\n",
              "      } catch (error) {\n",
              "        console.error('Error during call to suggestCharts:', error);\n",
              "      }\n",
              "      quickchartButtonEl.classList.remove('colab-df-spinner');\n",
              "      quickchartButtonEl.classList.add('colab-df-quickchart-complete');\n",
              "    }\n",
              "    (() => {\n",
              "      let quickchartButtonEl =\n",
              "        document.querySelector('#df-2f172935-7d15-4c29-95a0-31237a8f1b77 button');\n",
              "      quickchartButtonEl.style.display =\n",
              "        google.colab.kernel.accessAllowed ? 'block' : 'none';\n",
              "    })();\n",
              "  </script>\n",
              "</div>\n",
              "    </div>\n",
              "  </div>\n"
            ],
            "application/vnd.google.colaboratory.intrinsic+json": {
              "type": "dataframe",
              "summary": "{\n  \"name\": \")\",\n  \"rows\": 6,\n  \"fields\": [\n    {\n      \"column\": \"name\",\n      \"properties\": {\n        \"dtype\": \"string\",\n        \"num_unique_values\": 5,\n        \"samples\": [\n          \"Integer-Ctrl/cross-encoder-bert-tiny-512\",\n          \"Integer-Ctrl/cross-encoder-bert-tiny-bs-200\",\n          \"Integer-Ctrl/cross-encoder-bert-tiny-5120\"\n        ],\n        \"semantic_type\": \"\",\n        \"description\": \"\"\n      }\n    },\n    {\n      \"column\": \"ndcg_cut.10\",\n      \"properties\": {\n        \"dtype\": \"number\",\n        \"std\": 0.11278192222834417,\n        \"min\": 0.33172238196677295,\n        \"max\": 0.6214438596644779,\n        \"num_unique_values\": 5,\n        \"samples\": [\n          0.33172238196677295,\n          0.6214438596644779,\n          0.47553497044416504\n        ],\n        \"semantic_type\": \"\",\n        \"description\": \"\"\n      }\n    },\n    {\n      \"column\": \"recip_rank\",\n      \"properties\": {\n        \"dtype\": \"number\",\n        \"std\": 0.1518250671131867,\n        \"min\": 0.5489241839962807,\n        \"max\": 0.9032769556025371,\n        \"num_unique_values\": 5,\n        \"samples\": [\n          0.5489241839962807,\n          0.9032769556025371,\n          0.7483453170055799\n        ],\n        \"semantic_type\": \"\",\n        \"description\": \"\"\n      }\n    }\n  ]\n}"
            }
          },
          "metadata": {},
          "execution_count": 41
        }
      ]
    }
  ]
}