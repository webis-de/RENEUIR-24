{
 "cells": [
  {
   "cell_type": "code",
   "execution_count": 5,
   "id": "8cd0d2ef-c192-4776-9ade-6ce8bae590e8",
   "metadata": {},
   "outputs": [],
   "source": [
    "# Imports\n",
    "from tira.third_party_integrations import ensure_pyterrier_is_loaded, persist_and_normalize_run\n",
    "from tira.rest_api_client import Client\n",
    "import pyterrier as pt\n"
   ]
  },
  {
   "cell_type": "code",
   "execution_count": 9,
   "id": "5ec85789-bf91-4e54-b2c1-2ab96b27a2f0",
   "metadata": {},
   "outputs": [
    {
     "data": {
      "text/plain": [
       "<org.terrier.structures.Index at 0x7cfb283aa110 jclass=org/terrier/structures/Index jself=<LocalRef obj=0x5bbd142ea928 at 0x7cfb27cf3570>>"
      ]
     },
     "execution_count": 9,
     "metadata": {},
     "output_type": "execute_result"
    }
   ],
   "source": [
    "# Create a REST client to the TIRA platform for retrieving the pre-indexed data.\n",
    "from tira.third_party_integrations import ensure_pyterrier_is_loaded, persist_and_normalize_run\n",
    "from tira.rest_api_client import Client\n",
    "import pyterrier as pt\n",
    "\n",
    "ensure_pyterrier_is_loaded()\n",
    "tira = Client()\n",
    "\n",
    "tira.pt.index('ir-benchmarks/tira-ir-starter/Index (tira-ir-starter-pyterrier)', 'longeval-2023-01-20240423-training')"
   ]
  },
  {
   "cell_type": "code",
   "execution_count": 8,
   "id": "38368595-3bf3-4506-9f50-26de76d107e7",
   "metadata": {},
   "outputs": [
    {
     "name": "stdout",
     "output_type": "stream",
     "text": [
      "The download is derived from The LongEval Dataset under the \"Qwant LongEval Attribution-NonCommercial-ShareAlike License\". Hence, the download is also under this License. By using it, you agree to the terms of this license. Please find details at: https://lindat.mff.cuni.cz/repository/xmlui/page/Qwant_LongEval_BY-NC-SA_License\n",
      "Download from the Incubator: https://files.webis.de/data-in-production/data-research/tira-zenodo-dump-preparation/ir-lab-padua2024/2024-04-24-01-24-17.zip\n",
      "\tThis is only used for last spot checks before archival to Zenodo.\n"
     ]
    },
    {
     "name": "stderr",
     "output_type": "stream",
     "text": [
      "Download: 100%|███████████████████████████| 1.61G/1.61G [00:53<00:00, 32.4MiB/s]\n"
     ]
    },
    {
     "name": "stdout",
     "output_type": "stream",
     "text": [
      "Download finished. Extract...\n",
      "Extraction finished:  /root/.tira/extracted_runs/ir-benchmarks/longeval-2023-01-20240423-training/tira-ir-starter\n"
     ]
    },
    {
     "data": {
      "text/plain": [
       "<org.terrier.structures.Index at 0x7cfb27b23ba0 jclass=org/terrier/structures/Index jself=<LocalRef obj=0x5bbd142ea920 at 0x7cfaf446ee50>>"
      ]
     },
     "execution_count": 8,
     "metadata": {},
     "output_type": "execute_result"
    }
   ],
   "source": [
    "tira.pt.index('ir-benchmarks/tira-ir-starter/Index (tira-ir-starter-pyterrier)', 'longeval-2023-01-20240423-training')"
   ]
  },
  {
   "cell_type": "code",
   "execution_count": 18,
   "id": "f2c0ae9c-0edd-4466-9d8d-8b0674241bbb",
   "metadata": {},
   "outputs": [],
   "source": [
    "dataset_id = 'ir-benchmarks/msmarco-passage-trec-dl-2019-judged-20230107-training'\n",
    "pt_dataset = pt.get_dataset(f'irds:{dataset_id}')"
   ]
  },
  {
   "cell_type": "code",
   "execution_count": null,
   "id": "728818a9-1b51-4345-a93d-5cbe7193f8e9",
   "metadata": {},
   "outputs": [],
   "source": []
  },
  {
   "cell_type": "code",
   "execution_count": 10,
   "id": "6599c6b0-0f21-4d14-b1f2-27ae57cb8122",
   "metadata": {},
   "outputs": [
    {
     "name": "stdout",
     "output_type": "stream",
     "text": [
      "-rw-r--r-- 1 1000 1000 1.7M Jun 13 07:30 ../code/lightning-ir/runs/version_0/msmarco-passage-trec-dl-2019-judged-20230107-training-rerank.run\n"
     ]
    }
   ],
   "source": [
    "!ls -lh ../code/lightning-ir/runs/version_0/msmarco-passage-trec-dl-2019-judged-20230107-training-rerank.run"
   ]
  },
  {
   "cell_type": "code",
   "execution_count": 12,
   "id": "c4d3a2f6-c195-40b8-9447-fb3675932c7b",
   "metadata": {},
   "outputs": [],
   "source": [
    "runs, names = [], []\n",
    "\n",
    "for v in range(0,10):\n",
    "    runs += [pt.io.read_results(f'../code/lightning-ir/runs/version_{v}/msmarco-passage-trec-dl-2019-judged-20230107-training-rerank.run')]\n",
    "    names += [f'version_{v}']"
   ]
  },
  {
   "cell_type": "code",
   "execution_count": 20,
   "id": "ff71642e-e4a9-4671-9f3b-3de96b777940",
   "metadata": {},
   "outputs": [
    {
     "name": "stdout",
     "output_type": "stream",
     "text": [
      "There are multiple query fields available: ('text', 'title', 'query', 'description', 'narrative'). To use with pyterrier, provide variant or modify dataframe to add query column.\n"
     ]
    },
    {
     "data": {
      "text/html": [
       "<div>\n",
       "<style scoped>\n",
       "    .dataframe tbody tr th:only-of-type {\n",
       "        vertical-align: middle;\n",
       "    }\n",
       "\n",
       "    .dataframe tbody tr th {\n",
       "        vertical-align: top;\n",
       "    }\n",
       "\n",
       "    .dataframe thead th {\n",
       "        text-align: right;\n",
       "    }\n",
       "</style>\n",
       "<table border=\"1\" class=\"dataframe\">\n",
       "  <thead>\n",
       "    <tr style=\"text-align: right;\">\n",
       "      <th></th>\n",
       "      <th>name</th>\n",
       "      <th>ndcg_cut.10</th>\n",
       "      <th>recip_rank</th>\n",
       "      <th>recall_100</th>\n",
       "    </tr>\n",
       "  </thead>\n",
       "  <tbody>\n",
       "    <tr>\n",
       "      <th>9</th>\n",
       "      <td>version_9</td>\n",
       "      <td>0.560912</td>\n",
       "      <td>0.852566</td>\n",
       "      <td>0.491215</td>\n",
       "    </tr>\n",
       "    <tr>\n",
       "      <th>5</th>\n",
       "      <td>version_5</td>\n",
       "      <td>0.562476</td>\n",
       "      <td>0.864821</td>\n",
       "      <td>0.491283</td>\n",
       "    </tr>\n",
       "    <tr>\n",
       "      <th>7</th>\n",
       "      <td>version_7</td>\n",
       "      <td>0.565190</td>\n",
       "      <td>0.853359</td>\n",
       "      <td>0.492990</td>\n",
       "    </tr>\n",
       "    <tr>\n",
       "      <th>3</th>\n",
       "      <td>version_3</td>\n",
       "      <td>0.569452</td>\n",
       "      <td>0.814784</td>\n",
       "      <td>0.502199</td>\n",
       "    </tr>\n",
       "    <tr>\n",
       "      <th>4</th>\n",
       "      <td>version_4</td>\n",
       "      <td>0.576133</td>\n",
       "      <td>0.834939</td>\n",
       "      <td>0.499678</td>\n",
       "    </tr>\n",
       "    <tr>\n",
       "      <th>1</th>\n",
       "      <td>version_1</td>\n",
       "      <td>0.577494</td>\n",
       "      <td>0.847121</td>\n",
       "      <td>0.499021</td>\n",
       "    </tr>\n",
       "    <tr>\n",
       "      <th>0</th>\n",
       "      <td>version_0</td>\n",
       "      <td>0.592418</td>\n",
       "      <td>0.859358</td>\n",
       "      <td>0.506109</td>\n",
       "    </tr>\n",
       "    <tr>\n",
       "      <th>6</th>\n",
       "      <td>version_6</td>\n",
       "      <td>0.598077</td>\n",
       "      <td>0.862818</td>\n",
       "      <td>0.501922</td>\n",
       "    </tr>\n",
       "    <tr>\n",
       "      <th>2</th>\n",
       "      <td>version_2</td>\n",
       "      <td>0.673838</td>\n",
       "      <td>0.951550</td>\n",
       "      <td>0.525318</td>\n",
       "    </tr>\n",
       "    <tr>\n",
       "      <th>8</th>\n",
       "      <td>version_8</td>\n",
       "      <td>0.679199</td>\n",
       "      <td>0.951550</td>\n",
       "      <td>0.527016</td>\n",
       "    </tr>\n",
       "  </tbody>\n",
       "</table>\n",
       "</div>"
      ],
      "text/plain": [
       "        name  ndcg_cut.10  recip_rank  recall_100\n",
       "9  version_9     0.560912    0.852566    0.491215\n",
       "5  version_5     0.562476    0.864821    0.491283\n",
       "7  version_7     0.565190    0.853359    0.492990\n",
       "3  version_3     0.569452    0.814784    0.502199\n",
       "4  version_4     0.576133    0.834939    0.499678\n",
       "1  version_1     0.577494    0.847121    0.499021\n",
       "0  version_0     0.592418    0.859358    0.506109\n",
       "6  version_6     0.598077    0.862818    0.501922\n",
       "2  version_2     0.673838    0.951550    0.525318\n",
       "8  version_8     0.679199    0.951550    0.527016"
      ]
     },
     "execution_count": 20,
     "metadata": {},
     "output_type": "execute_result"
    }
   ],
   "source": [
    "pt.Experiment(\n",
    "    runs,\n",
    "    pt_dataset.get_topics(),\n",
    "    pt_dataset.get_qrels(),\n",
    "    [\"ndcg_cut.10\", \"recip_rank\", \"recall_100\"],\n",
    "    names=names\n",
    ").sort_values('ndcg_cut.10')"
   ]
  }
 ],
 "metadata": {
  "kernelspec": {
   "display_name": "Python 3 (ipykernel)",
   "language": "python",
   "name": "python3"
  },
  "language_info": {
   "codemirror_mode": {
    "name": "ipython",
    "version": 3
   },
   "file_extension": ".py",
   "mimetype": "text/x-python",
   "name": "python",
   "nbconvert_exporter": "python",
   "pygments_lexer": "ipython3",
   "version": "3.10.12"
  }
 },
 "nbformat": 4,
 "nbformat_minor": 5
}
